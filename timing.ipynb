{
 "cells": [
  {
   "cell_type": "code",
   "execution_count": 1,
   "metadata": {},
   "outputs": [],
   "source": [
    "# Comparing timing.  \n",
    "import time\n",
    "import numpy as np\n",
    "from sklearn.linear_model import LinearRegression\n",
    "from running_linear_regression import RunningLinearRegression\n",
    "\n",
    "b0, b1 = 2.0, 3.0\n",
    "TEST_SIZE = 10000\n",
    "xs_add = np.random.standard_normal(TEST_SIZE)\n",
    "ys_add = b0 * xs_add + b1 + np.random.standard_normal(TEST_SIZE)\n"
   ]
  },
  {
   "cell_type": "code",
   "execution_count": 2,
   "metadata": {},
   "outputs": [
    {
     "name": "stdout",
     "output_type": "stream",
     "text": [
      "5.633713722229004\n"
     ]
    }
   ],
   "source": [
    "# Timing sklearns ``LinearRegression``.\n",
    "start = time.time()\n",
    "\n",
    "xs = np.arange(0, 10, 1)\n",
    "ys = b0*xs + b1\n",
    "sk_reg = LinearRegression().fit(xs.reshape(-1,1),ys)\n",
    "#my_reg = RunningLinearRegression().fit(xs,ys)\n",
    "\n",
    "# Push\n",
    "for x,y in zip(xs_add, ys_add):\n",
    "    xs = np.append(xs, x)\n",
    "    ys = np.append(ys, y)\n",
    "    sk_reg = LinearRegression().fit(xs.reshape(-1,1),ys)\n",
    "    #my_reg.push(x,y)\n",
    "\n",
    "# Pushpop\n",
    "for x,y in zip(xs_add, ys_add):\n",
    "    xs = np.append(xs[1:], x)\n",
    "    ys = np.append(ys[1:], y)\n",
    "    sk_reg = LinearRegression().fit(xs.reshape(-1,1),ys)\n",
    "    #my_reg.pushpop(x,y)\n",
    "\n",
    "# Pop\n",
    "for _ in range(TEST_SIZE // 2):\n",
    "    xs = xs[1:]\n",
    "    ys = ys[1:]\n",
    "    sk_reg = LinearRegression().fit(xs.reshape(-1,1),ys)\n",
    "    #my_reg.pop()\n",
    "\n",
    "end = time.time()\n",
    "sk_time = end-start\n",
    "print(sk_time)\n"
   ]
  },
  {
   "cell_type": "code",
   "execution_count": 3,
   "metadata": {},
   "outputs": [
    {
     "name": "stdout",
     "output_type": "stream",
     "text": [
      "0.27932286262512207\n"
     ]
    }
   ],
   "source": [
    "# Timing ``RunningLinearRegression``.  Note that we mimic the above \n",
    "# code for the timing of ``LinearRegression`` even though many of the\n",
    "# operations are unnecessary here.  This is so that we get an \n",
    "# honest timing comparison.  \n",
    "\n",
    "start = time.time()\n",
    "\n",
    "xs = np.arange(0, 10, 1)\n",
    "ys = b0*xs + b1\n",
    "#sk_reg = LinearRegression().fit(xs.reshape(-1,1),ys)\n",
    "my_reg = RunningLinearRegression().fit(xs,ys)\n",
    "\n",
    "# Push\n",
    "for x,y in zip(xs_add, ys_add):\n",
    "    xs = np.append(xs, x)\n",
    "    ys = np.append(ys, y)\n",
    "    xs.reshape(-1,1)\n",
    "    #sk_reg = LinearRegression().fit(xs.reshape(-1,1),ys)\n",
    "    my_reg.push(x,y)\n",
    "\n",
    "# Pushpop\n",
    "for x,y in zip(xs_add, ys_add):\n",
    "    xs = np.append(xs[1:], x)\n",
    "    ys = np.append(ys[1:], y)\n",
    "    xs.reshape(-1,1)\n",
    "    #sk_reg = LinearRegression().fit(xs.reshape(-1,1),ys)\n",
    "    my_reg.pushpop(x,y)\n",
    "\n",
    "# Pop\n",
    "for _ in range(TEST_SIZE // 2):\n",
    "    xs = xs[1:]\n",
    "    ys = ys[1:]\n",
    "    xs.reshape(-1,1)\n",
    "    #sk_reg = LinearRegression().fit(xs.reshape(-1,1),ys)\n",
    "    my_reg.pop()\n",
    "\n",
    "end = time.time()\n",
    "my_time = end-start\n",
    "print(my_time)\n"
   ]
  },
  {
   "cell_type": "code",
   "execution_count": 4,
   "metadata": {},
   "outputs": [
    {
     "data": {
      "text/plain": [
       "20.169182247677252"
      ]
     },
     "execution_count": 4,
     "metadata": {},
     "output_type": "execute_result"
    }
   ],
   "source": [
    "sk_time/my_time\n"
   ]
  },
  {
   "cell_type": "code",
   "execution_count": 5,
   "metadata": {},
   "outputs": [],
   "source": [
    "from running_simple_stats import RunningSimpleStats\n",
    "\n",
    "xs = np.arange(0,100,1)\n",
    "ys = np.arange(0,100,1)\n",
    "\n",
    "TEST_SIZE = 10 ** 6\n",
    "xs_new = np.random.standard_normal(TEST_SIZE)\n",
    "ys_new = np.random.standard_normal(TEST_SIZE)\n"
   ]
  },
  {
   "cell_type": "code",
   "execution_count": 6,
   "metadata": {},
   "outputs": [
    {
     "name": "stdout",
     "output_type": "stream",
     "text": [
      "1.2645580768585205\n"
     ]
    }
   ],
   "source": [
    "# Timing pushpop as a single operation.  \n",
    "start = time.time()\n",
    "rss = RunningSimpleStats(xs, ys)\n",
    "for x,y in zip(xs_new, ys_new):\n",
    "    rss.pushpop(x,y)\n",
    "end = time.time()\n",
    "pushpop_time = end-start\n",
    "print(pushpop_time)\n"
   ]
  },
  {
   "cell_type": "code",
   "execution_count": 7,
   "metadata": {},
   "outputs": [
    {
     "name": "stdout",
     "output_type": "stream",
     "text": [
      "2.629517078399658\n"
     ]
    }
   ],
   "source": [
    "# Timing pushing and popping separately.  \n",
    "start = time.time()\n",
    "rss = RunningSimpleStats(xs, ys)\n",
    "for x,y in zip(xs_new, ys_new):\n",
    "    rss.push(x,y)\n",
    "    rss.pop()\n",
    "end = time.time()\n",
    "push_pop_time = end-start\n",
    "print(push_pop_time)\n"
   ]
  },
  {
   "cell_type": "code",
   "execution_count": 8,
   "metadata": {},
   "outputs": [
    {
     "data": {
      "text/plain": [
       "2.0793960566303435"
      ]
     },
     "execution_count": 8,
     "metadata": {},
     "output_type": "execute_result"
    }
   ],
   "source": [
    "push_pop_time / pushpop_time\n"
   ]
  }
 ],
 "metadata": {
  "kernelspec": {
   "display_name": "base",
   "language": "python",
   "name": "python3"
  },
  "language_info": {
   "codemirror_mode": {
    "name": "ipython",
    "version": 3
   },
   "file_extension": ".py",
   "mimetype": "text/x-python",
   "name": "python",
   "nbconvert_exporter": "python",
   "pygments_lexer": "ipython3",
   "version": "3.11.5"
  }
 },
 "nbformat": 4,
 "nbformat_minor": 2
}
