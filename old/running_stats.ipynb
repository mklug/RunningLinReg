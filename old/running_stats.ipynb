{
 "cells": [
  {
   "cell_type": "code",
   "execution_count": 1,
   "metadata": {},
   "outputs": [],
   "source": [
    "from collections import deque\n",
    "import numpy as np\n",
    "\n",
    "from running_stats import RunningMean, RunningVariance, RunningCovariance\n"
   ]
  },
  {
   "cell_type": "code",
   "execution_count": 2,
   "metadata": {},
   "outputs": [
    {
     "name": "stdout",
     "output_type": "stream",
     "text": [
      "1.5\n",
      "1.5\n",
      "1.4999999999999996\n",
      "1.5\n",
      "3.7499999999999996\n",
      "3.75\n"
     ]
    }
   ],
   "source": [
    "# Simple demo code / sanity check.\n",
    "\n",
    "rm = RunningMean([1,2,3])\n",
    "rm.push(3)\n",
    "rm.push(10)\n",
    "rm.push(-10)\n",
    "print(rm.mean)\n",
    "print(np.mean([1,2,3,3,10,-10]))\n",
    "assert 1 == rm.pop()\n",
    "assert 2 == rm.pop()\n",
    "print(rm.mean)\n",
    "print(np.mean([3,3,10,-10]))\n",
    "rm.pushpop(12)\n",
    "print(rm.mean)\n",
    "print(np.mean([3,10,-10,12]))\n"
   ]
  },
  {
   "cell_type": "code",
   "execution_count": 3,
   "metadata": {},
   "outputs": [
    {
     "name": "stdout",
     "output_type": "stream",
     "text": [
      "6.406019415997434\n",
      "4.220219249997172\n"
     ]
    }
   ],
   "source": [
    "# Shows that indeed grouping pushing and popping is more\n",
    "# efficient when that is what the workload calls for.  \n",
    "\n",
    "import timeit\n",
    "M = 10\n",
    "\n",
    "def test_push_pop():\n",
    "    rm = RunningMean([1])\n",
    "    for i in range(M):\n",
    "        rm.push(i)\n",
    "        rm.pop()\n",
    "\n",
    "def test_pushpop():\n",
    "    rm = RunningMean([1])\n",
    "    for i in range(M):\n",
    "        rm.pushpop(i)\n",
    "\n",
    "print(timeit.timeit(f'test_push_pop()',\n",
    "                     globals=globals()))\n",
    "\n",
    "print(timeit.timeit(f'test_pushpop()',\n",
    "                     globals=globals()))\n"
   ]
  },
  {
   "cell_type": "code",
   "execution_count": 4,
   "metadata": {},
   "outputs": [
    {
     "name": "stdout",
     "output_type": "stream",
     "text": [
      "[1, 0, 1, 2, 3]\n",
      "1.04\n",
      "1.040000000000001\n",
      "12.559999999999999\n",
      "12.560000000000002\n",
      "deque([0, 1, 2, 3, 10])\n"
     ]
    }
   ],
   "source": [
    "# Simple demo code / sanity check.\n",
    "\n",
    "rv = RunningVariance([1,1,1])\n",
    "assert rv.variance == 0\n",
    "for i in range(4):\n",
    "    rv.push(i)\n",
    "assert rv.pop() == 1\n",
    "rv.pop()\n",
    "print(list(rv._x_rm.q))\n",
    "print(np.var(list(rv._x_rm.q)))\n",
    "print(rv.variance)\n",
    "\n",
    "rv.pushpop(10)\n",
    "print(np.var([0,1,2,3,10]))\n",
    "print(rv.variance)\n",
    "print(rv._x_rm.q)\n"
   ]
  },
  {
   "cell_type": "code",
   "execution_count": 5,
   "metadata": {},
   "outputs": [
    {
     "name": "stdout",
     "output_type": "stream",
     "text": [
      "1.0612244897959182\n",
      "1.0612244897959187\n",
      "(1, 1)\n",
      "(2, 2)\n",
      "1.36\n",
      "1.3599999999999985\n",
      "3.679999999999998\n",
      "3.6799999999999997\n"
     ]
    }
   ],
   "source": [
    "def naive_covariance(data1, data2):\n",
    "    n = len(data1)\n",
    "    sum1 = sum(data1)\n",
    "    sum2 = sum(data2)\n",
    "    sum12 = sum([i1 * i2 for i1, i2 in zip(data1, data2)])\n",
    "    covariance = (sum12 - sum1 * sum2 / n) / n\n",
    "    return covariance\n",
    "\n",
    "rc = RunningCovariance([1,2,3], [1,2,3])\n",
    "rc.covariance\n",
    "for i in range(4):\n",
    "    rc.push(i,i)\n",
    "\n",
    "nums = [1,2,3,0,1,2,3]\n",
    "print(naive_covariance(nums, nums))\n",
    "print(rc.covariance)\n",
    "\n",
    "print(rc.pop())\n",
    "print(rc.pop())\n",
    "nums = [3,0,1,2,3]\n",
    "print(naive_covariance(nums,nums))\n",
    "print(rc.covariance)\n",
    "\n",
    "rc.pushpop(4,5)\n",
    "rc.pushpop(6,7)\n",
    "print(rc.covariance)\n",
    "print(naive_covariance([1,2,3,4,6],[1,2,3,5,7]))\n"
   ]
  },
  {
   "cell_type": "code",
   "execution_count": 6,
   "metadata": {},
   "outputs": [
    {
     "name": "stdout",
     "output_type": "stream",
     "text": [
      "[[2.1875 2.1875]\n",
      " [2.1875 2.1875]]\n",
      "2.1875\n"
     ]
    }
   ],
   "source": [
    "l1 = [1,2,3,5]\n",
    "l2 = [1,2,3,5]\n",
    "\n",
    "print(np.cov(m=l1, y=l2, ddof=0)) # delta degrees of freedom.  Can also use ``bias=True``.\n",
    "print(naive_covariance(l1, l2))\n"
   ]
  }
 ],
 "metadata": {
  "kernelspec": {
   "display_name": "base",
   "language": "python",
   "name": "python3"
  },
  "language_info": {
   "codemirror_mode": {
    "name": "ipython",
    "version": 3
   },
   "file_extension": ".py",
   "mimetype": "text/x-python",
   "name": "python",
   "nbconvert_exporter": "python",
   "pygments_lexer": "ipython3",
   "version": "3.11.5"
  }
 },
 "nbformat": 4,
 "nbformat_minor": 2
}
