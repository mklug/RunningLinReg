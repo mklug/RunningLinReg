{
 "cells": [
  {
   "cell_type": "code",
   "execution_count": 1,
   "metadata": {},
   "outputs": [
    {
     "name": "stdout",
     "output_type": "stream",
     "text": [
      "-0.12748796148077407\n",
      "0.016253180322523333\n",
      "-1.2724494666546637\n"
     ]
    }
   ],
   "source": [
    "from running_linear_regression import RunningLinearRegression\n",
    "import numpy as np\n",
    "\n",
    "xs = np.random.standard_normal(100)\n",
    "ys = np.random.standard_normal(100)\n",
    "\n",
    "reg = RunningLinearRegression()\n",
    "\n",
    "reg.fit(xs,ys)\n",
    "print(reg.r())\n",
    "print(reg.r2())\n",
    "print(reg.t_score())\n"
   ]
  },
  {
   "cell_type": "code",
   "execution_count": null,
   "metadata": {},
   "outputs": [],
   "source": []
  }
 ],
 "metadata": {
  "kernelspec": {
   "display_name": "base",
   "language": "python",
   "name": "python3"
  },
  "language_info": {
   "codemirror_mode": {
    "name": "ipython",
    "version": 3
   },
   "file_extension": ".py",
   "mimetype": "text/x-python",
   "name": "python",
   "nbconvert_exporter": "python",
   "pygments_lexer": "ipython3",
   "version": "3.11.5"
  }
 },
 "nbformat": 4,
 "nbformat_minor": 2
}
