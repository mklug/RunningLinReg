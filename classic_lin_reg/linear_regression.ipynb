{
 "cells": [
  {
   "cell_type": "code",
   "execution_count": 1,
   "metadata": {},
   "outputs": [
    {
     "data": {
      "text/html": [
       "<div>\n",
       "<style scoped>\n",
       "    .dataframe tbody tr th:only-of-type {\n",
       "        vertical-align: middle;\n",
       "    }\n",
       "\n",
       "    .dataframe tbody tr th {\n",
       "        vertical-align: top;\n",
       "    }\n",
       "\n",
       "    .dataframe thead th {\n",
       "        text-align: right;\n",
       "    }\n",
       "</style>\n",
       "<table border=\"1\" class=\"dataframe\">\n",
       "  <thead>\n",
       "    <tr style=\"text-align: right;\">\n",
       "      <th></th>\n",
       "      <th>fixed acidity</th>\n",
       "      <th>volatile acidity</th>\n",
       "      <th>citric acid</th>\n",
       "      <th>residual sugar</th>\n",
       "      <th>chlorides</th>\n",
       "      <th>free sulfur dioxide</th>\n",
       "      <th>total sulfur dioxide</th>\n",
       "      <th>density</th>\n",
       "      <th>pH</th>\n",
       "      <th>sulphates</th>\n",
       "      <th>alcohol</th>\n",
       "      <th>quality</th>\n",
       "    </tr>\n",
       "  </thead>\n",
       "  <tbody>\n",
       "    <tr>\n",
       "      <th>0</th>\n",
       "      <td>7.4</td>\n",
       "      <td>0.70</td>\n",
       "      <td>0.00</td>\n",
       "      <td>1.9</td>\n",
       "      <td>0.076</td>\n",
       "      <td>11.0</td>\n",
       "      <td>34.0</td>\n",
       "      <td>0.9978</td>\n",
       "      <td>3.51</td>\n",
       "      <td>0.56</td>\n",
       "      <td>9.4</td>\n",
       "      <td>5</td>\n",
       "    </tr>\n",
       "    <tr>\n",
       "      <th>1</th>\n",
       "      <td>7.8</td>\n",
       "      <td>0.88</td>\n",
       "      <td>0.00</td>\n",
       "      <td>2.6</td>\n",
       "      <td>0.098</td>\n",
       "      <td>25.0</td>\n",
       "      <td>67.0</td>\n",
       "      <td>0.9968</td>\n",
       "      <td>3.20</td>\n",
       "      <td>0.68</td>\n",
       "      <td>9.8</td>\n",
       "      <td>5</td>\n",
       "    </tr>\n",
       "    <tr>\n",
       "      <th>2</th>\n",
       "      <td>7.8</td>\n",
       "      <td>0.76</td>\n",
       "      <td>0.04</td>\n",
       "      <td>2.3</td>\n",
       "      <td>0.092</td>\n",
       "      <td>15.0</td>\n",
       "      <td>54.0</td>\n",
       "      <td>0.9970</td>\n",
       "      <td>3.26</td>\n",
       "      <td>0.65</td>\n",
       "      <td>9.8</td>\n",
       "      <td>5</td>\n",
       "    </tr>\n",
       "    <tr>\n",
       "      <th>3</th>\n",
       "      <td>11.2</td>\n",
       "      <td>0.28</td>\n",
       "      <td>0.56</td>\n",
       "      <td>1.9</td>\n",
       "      <td>0.075</td>\n",
       "      <td>17.0</td>\n",
       "      <td>60.0</td>\n",
       "      <td>0.9980</td>\n",
       "      <td>3.16</td>\n",
       "      <td>0.58</td>\n",
       "      <td>9.8</td>\n",
       "      <td>6</td>\n",
       "    </tr>\n",
       "    <tr>\n",
       "      <th>4</th>\n",
       "      <td>7.4</td>\n",
       "      <td>0.70</td>\n",
       "      <td>0.00</td>\n",
       "      <td>1.9</td>\n",
       "      <td>0.076</td>\n",
       "      <td>11.0</td>\n",
       "      <td>34.0</td>\n",
       "      <td>0.9978</td>\n",
       "      <td>3.51</td>\n",
       "      <td>0.56</td>\n",
       "      <td>9.4</td>\n",
       "      <td>5</td>\n",
       "    </tr>\n",
       "  </tbody>\n",
       "</table>\n",
       "</div>"
      ],
      "text/plain": [
       "   fixed acidity  volatile acidity  citric acid  residual sugar  chlorides  \\\n",
       "0            7.4              0.70         0.00             1.9      0.076   \n",
       "1            7.8              0.88         0.00             2.6      0.098   \n",
       "2            7.8              0.76         0.04             2.3      0.092   \n",
       "3           11.2              0.28         0.56             1.9      0.075   \n",
       "4            7.4              0.70         0.00             1.9      0.076   \n",
       "\n",
       "   free sulfur dioxide  total sulfur dioxide  density    pH  sulphates  \\\n",
       "0                 11.0                  34.0   0.9978  3.51       0.56   \n",
       "1                 25.0                  67.0   0.9968  3.20       0.68   \n",
       "2                 15.0                  54.0   0.9970  3.26       0.65   \n",
       "3                 17.0                  60.0   0.9980  3.16       0.58   \n",
       "4                 11.0                  34.0   0.9978  3.51       0.56   \n",
       "\n",
       "   alcohol  quality  \n",
       "0      9.4        5  \n",
       "1      9.8        5  \n",
       "2      9.8        5  \n",
       "3      9.8        6  \n",
       "4      9.4        5  "
      ]
     },
     "execution_count": 1,
     "metadata": {},
     "output_type": "execute_result"
    }
   ],
   "source": [
    "import numpy as np\n",
    "import pandas as pd\n",
    "\n",
    "PATH = \"data/winequality-red.csv\"\n",
    "df = pd.read_csv(PATH)\n",
    "df.head()\n"
   ]
  },
  {
   "cell_type": "code",
   "execution_count": 2,
   "metadata": {},
   "outputs": [
    {
     "name": "stdout",
     "output_type": "stream",
     "text": [
      "MSE is 0.4723502743930517\n",
      "beta_1 is 0.34654656318820065\n",
      "beta_0 is 2.0215994478490438\n",
      "R2 is 0.21204771216486196\n"
     ]
    }
   ],
   "source": [
    "from sklearn.model_selection import train_test_split\n",
    "from sklearn.linear_model import LinearRegression\n",
    "from sklearn.metrics import mean_squared_error\n",
    "\n",
    "y_label = \"quality\"\n",
    "X_train, X_test = train_test_split(df, train_size=0.8)\n",
    "y_train, y_test = X_train[y_label], X_test[y_label]\n",
    "X_train.drop(columns=[y_label], inplace=True)\n",
    "X_test.drop(columns=[y_label], inplace=True)\n",
    "\n",
    "#x_label = \"free sulfur dioxide\"\n",
    "x_label = \"alcohol\"\n",
    "x_train, x_test = X_train[x_label], X_test[x_label]\n",
    "x_train = x_train.to_numpy().reshape(-1,1)\n",
    "x_test  = x_test.to_numpy().reshape(-1,1)\n",
    "\n",
    "reg = LinearRegression().fit(x_train, y_train)\n",
    "predictions = reg.predict(x_test)\n",
    "mse = mean_squared_error(predictions, y_test)\n",
    "\n",
    "print(f'MSE is {mse}')\n",
    "print(f'beta_1 is {reg.coef_[0]}')\n",
    "print(f'beta_0 is {reg.intercept_}')\n",
    "print(f'R2 is {reg.score(x_train, y_train)}')\n"
   ]
  },
  {
   "cell_type": "code",
   "execution_count": 3,
   "metadata": {},
   "outputs": [],
   "source": [
    "def printRegression(reg, x, y):\n",
    "    print(f'mean square error is {mean_squared_error(reg.predict(x),y)}')\n",
    "    print(f'beta_1 is {reg.coef_[0]}')\n",
    "    print(f'beta_0 is {reg.intercept_}')\n",
    "    print(f'R2 is {reg.score(x, y)}')\n"
   ]
  },
  {
   "cell_type": "code",
   "execution_count": 4,
   "metadata": {},
   "outputs": [
    {
     "name": "stdout",
     "output_type": "stream",
     "text": [
      "mean square error is 1.3016204936146695e-29\n",
      "beta_1 is 1.999999999999999\n",
      "beta_0 is 3.0000000000000053\n",
      "R2 is 1.0\n"
     ]
    }
   ],
   "source": [
    "# A synthetic example where all of the points are on a line.\n",
    "\n",
    "x = np.arange(0, 10, 1)\n",
    "y = 2*x + 3\n",
    "x = x.reshape(-1,1)\n",
    "reg = LinearRegression().fit(x,y)\n",
    "printRegression(reg, x, y)\n"
   ]
  },
  {
   "cell_type": "code",
   "execution_count": 5,
   "metadata": {},
   "outputs": [
    {
     "name": "stdout",
     "output_type": "stream",
     "text": [
      "mean square error is 1.8437026583224434\n",
      "beta_1 is 2.0890175674806617\n",
      "beta_0 is 2.799763772530291\n",
      "R2 is 0.9512849262797923\n"
     ]
    }
   ],
   "source": [
    "# A synthetic example where all of the points are on a noisey line.\n",
    "x = np.arange(0, 10, 1)\n",
    "mu, sigma = 0.0, 1.0\n",
    "eps = np.random.normal(mu, sigma, len(x))\n",
    "y = 2*x + 3 + eps\n",
    "x = x.reshape(-1,1)\n",
    "reg = LinearRegression().fit(x,y)\n",
    "printRegression(reg, x, y)\n"
   ]
  },
  {
   "cell_type": "code",
   "execution_count": 6,
   "metadata": {},
   "outputs": [
    {
     "name": "stdout",
     "output_type": "stream",
     "text": [
      "reg.beta0_hat=300.00000000000017\n",
      "reg.beta1_hat=19.999999999999996\n",
      "reg.r2()=1.0\n",
      "reg.beta0_hat=298.9952894234932\n",
      "reg.beta1_hat=20.160225950423946\n",
      "reg.r2()=0.9999114305750781\n",
      "reg.beta0_hat=224.16497325386024\n",
      "reg.beta1_hat=31.86236579693264\n",
      "reg.r2()=0.4954230546064924\n",
      "reg.beta0_hat=298.7053879684314\n",
      "reg.beta1_hat=20.20248950039098\n",
      "reg.r2()=0.9998529487401713\n",
      "reg.beta0_hat=2.0215994478491393\n",
      "reg.beta1_hat=0.34654656318818844\n",
      "reg.r2()=0.21204771216486207\n"
     ]
    }
   ],
   "source": [
    "from linear_regression import LinearRegression\n",
    "\n",
    "def printReg(reg):\n",
    "    print(f'{reg.beta0_hat=}')\n",
    "    print(f'{reg.beta1_hat=}')\n",
    "    print(f'{reg.r2()=}')\n",
    "\n",
    "x = np.arange(0,10,1)\n",
    "y = 20*x + 300\n",
    "reg = LinearRegression()\n",
    "reg.fit(x,y)\n",
    "printReg(reg)\n",
    "\n",
    "reg_gd = LinearRegression()\n",
    "reg_gd.gd_fit(x,y)\n",
    "printReg(reg_gd)\n",
    "\n",
    "reg_ridge = LinearRegression()\n",
    "reg_ridge.ridge_fit(x,y)\n",
    "printReg(reg_ridge)\n",
    "\n",
    "reg_lasso = LinearRegression()\n",
    "reg_lasso.lasso_fit(x,y)\n",
    "printReg(reg_lasso)\n",
    "\n",
    "my_reg = LinearRegression()\n",
    "x = X_train[x_label].values\n",
    "y = y_train.values\n",
    "my_reg.fit(x,y)\n",
    "printReg(my_reg)\n"
   ]
  }
 ],
 "metadata": {
  "kernelspec": {
   "display_name": "base",
   "language": "python",
   "name": "python3"
  },
  "language_info": {
   "codemirror_mode": {
    "name": "ipython",
    "version": 3
   },
   "file_extension": ".py",
   "mimetype": "text/x-python",
   "name": "python",
   "nbconvert_exporter": "python",
   "pygments_lexer": "ipython3",
   "version": "3.11.5"
  }
 },
 "nbformat": 4,
 "nbformat_minor": 2
}
